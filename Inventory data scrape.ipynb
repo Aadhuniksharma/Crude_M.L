{
 "cells": [
  {
   "cell_type": "code",
   "execution_count": 46,
   "metadata": {},
   "outputs": [],
   "source": [
    "import bs4 as bs\n",
    "import requests \n",
    "import pickle\n",
    "import pandas as pd\n",
    "import numpy as np\n",
    "from selenium import webdriver\n",
    "import os\n",
    "from selenium.webdriver.firefox.firefox_binary import FirefoxBinary\n",
    "from selenium.webdriver.common.desired_capabilities import DesiredCapabilities\n",
    "from selenium.webdriver.support.ui import WebDriverWait\n",
    "from selenium.webdriver.support import expected_conditions as EC\n",
    "from selenium.webdriver.common.by import By\n",
    "#binary = FirefoxBinary('/home/aadhunik/Crude oil')"
   ]
  },
  {
   "cell_type": "code",
   "execution_count": 189,
   "metadata": {},
   "outputs": [],
   "source": [
    "def get_data():\n",
    "    capa = DesiredCapabilities.FIREFOX\n",
    "    capa[\"pageLoadStrategy\"] = \"none\"\n",
    "\n",
    "    browser = webdriver.Firefox(executable_path='/home/aadhunik/Crude oil/geckodriver',desired_capabilities=capa)\n",
    "\n",
    "    wait = WebDriverWait(browser, 20)\n",
    "\n",
    "    browser.get('https://in.investing.com/economic-calendar/eia-crude-oil-inventories-75')\n",
    "    req=browser.page_source\n",
    "\n",
    "    soup=bs.BeautifulSoup(req,'lxml')\n",
    "\n",
    "    table=soup.findAll('table',{'class':\"genTbl openTbl ecHistoryTbl\"})\n",
    "\n",
    "    df = pd.DataFrame(columns=['Date', 'Actual', 'forcast','previous'])\n",
    "\n",
    "    count=0\n",
    "    for i in table[0].findAll('tr')[2:]:\n",
    "        x=i.findAll('td')\n",
    "        df.loc[count]=[x[0].text,x[2].text[:-1],x[3].text[:-1],x[4].text[:-1]]\n",
    "        count=count+1\n",
    "\n",
    "    df.to_csv('crude_inventory1.csv')\n",
    "    return df"
   ]
  }
 ],
 "metadata": {
  "kernelspec": {
   "display_name": "Python 3",
   "language": "python",
   "name": "python3"
  },
  "language_info": {
   "codemirror_mode": {
    "name": "ipython",
    "version": 3
   },
   "file_extension": ".py",
   "mimetype": "text/x-python",
   "name": "python",
   "nbconvert_exporter": "python",
   "pygments_lexer": "ipython3",
   "version": "3.7.1"
  }
 },
 "nbformat": 4,
 "nbformat_minor": 2
}
